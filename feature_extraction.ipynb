{
  "nbformat": 4,
  "nbformat_minor": 0,
  "metadata": {
    "colab": {
      "provenance": [],
      "mount_file_id": "1HIJVd-Xhl3g6v0f7aqdsblReaysQrWp8",
      "authorship_tag": "ABX9TyNWzCR4DH00+cOfIXNi8THg",
      "include_colab_link": true
    },
    "kernelspec": {
      "name": "python3",
      "display_name": "Python 3"
    },
    "language_info": {
      "name": "python"
    }
  },
  "cells": [
    {
      "cell_type": "markdown",
      "metadata": {
        "id": "view-in-github",
        "colab_type": "text"
      },
      "source": [
        "<a href=\"https://colab.research.google.com/github/AmilcarArmmand/CSC-481/blob/main/feature_extraction.ipynb\" target=\"_parent\"><img src=\"https://colab.research.google.com/assets/colab-badge.svg\" alt=\"Open In Colab\"/></a>"
      ]
    },
    {
      "cell_type": "code",
      "execution_count": 6,
      "metadata": {
        "id": "exzIS1JPYzMJ",
        "colab": {
          "base_uri": "https://localhost:8080/",
          "height": 54
        },
        "outputId": "16f0f6e2-f517-4ac3-d59c-9e13db4a5f1d"
      },
      "outputs": [
        {
          "output_type": "execute_result",
          "data": {
            "text/plain": [
              "\"\\n# Read the file skipping\\ndf = pd.read_table(URL, sep=' ', header=None, skiprows=3)\\n# Drop the last line\\ndf = df.drop(df.index[-1:])\\ndf = df.rename(columns={0: 'X', 1: 'Y'})\\n\\ndf['X'] = pd.to_numeric(df['X'])\\ndf['Y'] = pd.to_numeric(df['Y'])\\nprint(df)\\ndf.dtypes\\n\""
            ],
            "application/vnd.google.colaboratory.intrinsic+json": {
              "type": "string"
            }
          },
          "metadata": {},
          "execution_count": 6
        }
      ],
      "source": [
        "import pandas as pd\n",
        "\n",
        "import requests\n",
        "import io\n",
        "\n",
        "base_URL = 'https://raw.githubusercontent.com/AmilcarArmmand/CSC-481/refs/heads/main/Face_Database/'\n",
        "URL = 'https://raw.githubusercontent.com/AmilcarArmmand/CSC-481/refs/heads/main/Face_Database/m-001/m-001-01.pts'\n",
        "\n",
        "\n",
        "def compute_distance(df, point1, point2):\n",
        "    \"\"\"Calculate Euclidean distance between two points.\"\"\"\n",
        "    x1, x2 = df.loc[point1, 'X'], df.loc[point2, 'X']\n",
        "    y1, y2 = df.loc[point1, 'Y'], df.loc[point2, 'Y']\n",
        "    return ((x2 - x1) ** 2 + (y2 - y1) ** 2) ** 0.5\n",
        "\n",
        "'''\n",
        "# Read the file skipping\n",
        "df = pd.read_table(URL, sep=' ', header=None, skiprows=3)\n",
        "# Drop the last line\n",
        "df = df.drop(df.index[-1:])\n",
        "df = df.rename(columns={0: 'X', 1: 'Y'})\n",
        "\n",
        "df['X'] = pd.to_numeric(df['X'])\n",
        "df['Y'] = pd.to_numeric(df['Y'])\n",
        "print(df)\n",
        "df.dtypes\n",
        "'''"
      ]
    },
    {
      "cell_type": "markdown",
      "source": [
        "Feature definitions\n",
        "1.\tEye length ratio: length of eye (maximum of two) over distance between points 8 and 13.\n",
        "2.\tEye distance ratio: distance between center of two eyes over distance between points 8 and 13.\n",
        "3.\tNose ratio: Distance between points 15 and 16 over distance between 20 and 21.\n",
        "4.\tLip size ratio: Distance between points 2 and 3 over distance between 17 and 18.\n",
        "5.\tLip length ratio: Distance between points 2 and 3 over distance between 20 and 21.\n",
        "6.\tEye-brow length ratio: Distance between points 4 and 5 (or distance between points 6 and 7 whichever is larger) over distance between 8 and 13.\n",
        "7.\tAggressive ratio: Distance between points 10 and 19 over distance between 20 and 21.\n"
      ],
      "metadata": {
        "id": "7SQwM36_Yxzq"
      }
    },
    {
      "cell_type": "code",
      "source": [
        "'''\n",
        "features = {}\n",
        "\n",
        "# Feature 1: Eye length ratio, length of eye (maximum of two) over distance between points 8 and 13.\n",
        "left_eye = compute_distance(df, 9, 10)\n",
        "right_eye = compute_distance(df, 11, 12)\n",
        "denom1 = compute_distance(df, 8, 13)\n",
        "features['Eye length ratio'] = max(left_eye, right_eye) / denom1 if denom1 else 0\n",
        "\n",
        "# Feature 2: Eye distance ratio - distance between center of two eyes over distance between points 8 and 13\n",
        "eye_dist = compute_distance(df, 0, 1)\n",
        "head_dist = compute_distance(df, 8, 13)\n",
        "features['Eye distance ratio'] = eye_dist / head_dist if head_dist else 0\n",
        "\n",
        "# Feature 3: Nose ratio - Distance between points 15 and 16 over distance between 20 and 21.\n",
        "nose_num = compute_distance(df, 15, 16)\n",
        "nose_den = compute_distance(df, 20, 21)\n",
        "features['Nose ratio'] = nose_num / nose_den if nose_den else 0\n",
        "\n",
        "# Feature 4: Lip size ratio - Distance between points 2 and 3 over distance between 17 and 18.\n",
        "lip_num = compute_distance(df, 2, 3)\n",
        "lip_den = compute_distance(df, 17, 18)\n",
        "features['Lip size ratio'] = lip_num / lip_den if lip_den else 0\n",
        "\n",
        "# Features 5: Lip length ratio - Distance between points 2 and 3 over distance between 20 and 21.\n",
        "lip_num = compute_distance(df, 2, 3)\n",
        "lip_den = compute_distance(df, 20, 21)\n",
        "features['Lip length ratio'] = lip_num / lip_den if lip_den else 0\n",
        "\n",
        "# Feature 6: Eye-brow length ratio - Distance between points 4 and 5 (or distance between points 6 and 7 whichever is larger) over distance between 8 and 13.\n",
        "brow_num = max(compute_distance(df, 4, 5), compute_distance(df, 6, 7))\n",
        "features['Eye-brow length ratio'] = brow_num / denom1 if denom1 else 0\n",
        "\n",
        "# Feature 7: Aggressive ratio - Distance between points 10 and 19 over distance between 20 and 21\n",
        "aggro_num = compute_distance(df, 10, 19)\n",
        "features['Aggressive Ratio'] = aggro_num / nose_den if nose_den else 0\n",
        "\n",
        "\n",
        "print(features)\n",
        "'''"
      ],
      "metadata": {
        "colab": {
          "base_uri": "https://localhost:8080/"
        },
        "id": "jhbqchU7Yc-k",
        "outputId": "8a92fb54-f712-458a-f605-0f0f611a942c"
      },
      "execution_count": 2,
      "outputs": [
        {
          "output_type": "stream",
          "name": "stdout",
          "text": [
            "{'Eye length ratio': 0.19330713710291383, 'Eye distance ratio': 0.4237684655772815, 'Nose ratio': 0.1660082668499721, 'Lip size ratio': 4.474275910905935, 'Lip length ratio': 0.4361737683401592, 'Eye-brow length ratio': 0.4267253292112548, 'Aggressive Ratio': 0.9445179202545555}\n"
          ]
        }
      ]
    },
    {
      "cell_type": "code",
      "source": [
        "def extract_features(url):\n",
        "    try:\n",
        "        response = requests.get(url)\n",
        "        response.raise_for_status()\n",
        "        df = pd.read_table(io.StringIO(response.text), sep=' ', header=None, skiprows=3)\n",
        "        df = df.drop(df.index[-1:])\n",
        "        df = df.rename(columns={0: 'X', 1: 'Y'})\n",
        "        df['X'] = pd.to_numeric(df['X'])\n",
        "        df['Y'] = pd.to_numeric(df['Y'])\n",
        "    except Exception as e:\n",
        "        print(f\"Error: {e}\")\n",
        "        return None\n",
        "\n",
        "    if len(df) != 22:\n",
        "        print(\"Invalid number of points. Expected 22, got {:} for {}\".format(len(df)), url)\n",
        "        return None\n",
        "\n",
        "    features = {}\n",
        "\n",
        "    # Feature 1: Eye length ratio, length of eye (maximum of two) over distance between points 8 and 13.\n",
        "    left_eye = compute_distance(df, 9, 10)\n",
        "    right_eye = compute_distance(df, 11, 12)\n",
        "    denom1 = compute_distance(df, 8, 13)\n",
        "    features['Eye Length Ratio'] = max(left_eye, right_eye) / denom1 if denom1 else 0\n",
        "\n",
        "    # Feature 2: Eye distance ratio - distance between center of two eyes over distance between points 8 and 13\n",
        "    eye_dist = compute_distance(df, 0, 1)\n",
        "    head_dist = compute_distance(df, 8, 13)\n",
        "    features['Eye Distance Ratio'] = eye_dist / head_dist if head_dist else 0\n",
        "\n",
        "    # Feature 3: Nose ratio - Distance between points 15 and 16 over distance between 20 and 21.\n",
        "    nose_num = compute_distance(df, 15, 16)\n",
        "    nose_den = compute_distance(df, 20, 21)\n",
        "    features['Nose Ratio'] = nose_num / nose_den if nose_den else 0\n",
        "\n",
        "    # Feature 4: Lip size ratio - Distance between points 2 and 3 over distance between 17 and 18.\n",
        "    lip_num = compute_distance(df, 2, 3)\n",
        "    lip_den = compute_distance(df, 17, 18)\n",
        "    features['Lip Size Ratio'] = lip_num / lip_den if lip_den else 0\n",
        "\n",
        "    # Features 5: Lip length ratio - Distance between points 2 and 3 over distance between 20 and 21.\n",
        "    lip_num = compute_distance(df, 2, 3)\n",
        "    lip_den = compute_distance(df, 20, 21)\n",
        "    features['Lip Length Ratio'] = lip_num / lip_den if lip_den else 0\n",
        "\n",
        "    # Feature 6: Eye-brow length ratio - Distance between points 4 and 5 (or distance between points 6 and 7 whichever is larger) over distance between 8 and 13.\n",
        "    brow_num = max(compute_distance(df, 4, 5), compute_distance(df, 6, 7))\n",
        "    features['Eye-brow Length Ratio'] = brow_num / denom1 if denom1 else 0\n",
        "\n",
        "    # Feature 7: Aggressive ratio - Distance between points 10 and 19 over distance between 20 and 21\n",
        "    aggro_num = compute_distance(df, 10, 19)\n",
        "    features['Aggressive Ratio'] = aggro_num / nose_den if nose_den else 0\n",
        "\n",
        "    return(features)\n"
      ],
      "metadata": {
        "id": "hUxXWYsTu_0l"
      },
      "execution_count": 7,
      "outputs": []
    },
    {
      "cell_type": "code",
      "source": [
        "def main():\n",
        "    base_url = 'https://raw.githubusercontent.com/AmilcarArmmand/CSC-481/main/Face_Database/'\n",
        "    id_list = [1, 2, 3, 4, 5]\n",
        "    img_list = [1, 2, 3, 5]\n",
        "    persons = [f'm-{i:03d}' for i in id_list] + [f'w-{i:03d}' for i in id_list]\n",
        "    results = []\n",
        "\n",
        "    for person in persons:\n",
        "        for img_num in img_list:\n",
        "            url = f\"{base_url}{person}/{person}-{img_num:02d}.pts\"\n",
        "            features = extract_features(url)\n",
        "            if features:\n",
        "                results.append({\n",
        "                    'Person': person,\n",
        "                    'Image': img_num,\n",
        "                    **features\n",
        "                })\n",
        "\n",
        "    df = pd.DataFrame(results)\n",
        "    print(\"Feature extraction complete. Sample output:\")\n",
        "    print(df)\n",
        "\n",
        "if __name__ == \"__main__\":\n",
        "    main()\n"
      ],
      "metadata": {
        "colab": {
          "base_uri": "https://localhost:8080/"
        },
        "id": "QLBIN2XCw1l3",
        "outputId": "44e75d50-b17b-45b4-c2a6-21a950bf3626"
      },
      "execution_count": 8,
      "outputs": [
        {
          "output_type": "stream",
          "name": "stdout",
          "text": [
            "Feature extraction complete. Sample output:\n",
            "   Person  Image  Eye Length Ratio  Eye Distance Ratio  Nose Ratio  \\\n",
            "0   m-001      1          0.193307            0.423768    0.166008   \n",
            "1   m-001      2          0.211407            0.428316    0.147227   \n",
            "2   m-001      3          0.224320            0.434374    0.155068   \n",
            "3   m-001      5          0.183316            0.445299    0.162857   \n",
            "4   m-002      1          0.208663            0.480300    0.135395   \n",
            "5   m-002      2          0.233480            0.487658    0.135987   \n",
            "6   m-002      3          0.234001            0.482573    0.134480   \n",
            "7   m-002      5          0.182113            0.490274    0.138033   \n",
            "8   m-003      1          0.239009            0.468884    0.147836   \n",
            "9   m-003      2          0.241601            0.472005    0.163104   \n",
            "10  m-003      3          0.241439            0.475170    0.160229   \n",
            "11  m-003      5          0.176839            0.484628    0.172419   \n",
            "12  m-004      1          0.236852            0.465986    0.131490   \n",
            "13  m-004      2          0.248213            0.463249    0.157853   \n",
            "14  m-004      3          0.227190            0.462137    0.151583   \n",
            "15  m-004      5          0.205735            0.466788    0.151421   \n",
            "16  m-005      1          0.245517            0.480971    0.121272   \n",
            "17  m-005      2          0.226269            0.461281    0.139369   \n",
            "18  m-005      3          0.224396            0.475740    0.129880   \n",
            "19  m-005      5          0.190446            0.509464    0.117398   \n",
            "20  w-001      1          0.266238            0.485008    0.153618   \n",
            "21  w-001      2          0.263351            0.473683    0.161916   \n",
            "22  w-001      3          0.269563            0.468425    0.158053   \n",
            "23  w-001      5          0.243968            0.490362    0.159330   \n",
            "24  w-002      1          0.206976            0.471466    0.145683   \n",
            "25  w-002      2          0.212474            0.473970    0.164410   \n",
            "26  w-002      3          0.251717            0.470886    0.155271   \n",
            "27  w-002      5          0.214471            0.499997    0.154558   \n",
            "28  w-003      1          0.221773            0.504649    0.145611   \n",
            "29  w-003      2          0.249003            0.525497    0.162833   \n",
            "30  w-003      3          0.231339            0.504316    0.146116   \n",
            "31  w-003      5          0.186264            0.520126    0.166846   \n",
            "32  w-004      1          0.212665            0.483404    0.134872   \n",
            "33  w-004      2          0.210412            0.474155    0.164669   \n",
            "34  w-004      3          0.224594            0.482668    0.123000   \n",
            "35  w-004      5          0.174750            0.502350    0.139589   \n",
            "36  w-005      1          0.232957            0.461638    0.136272   \n",
            "37  w-005      2          0.228974            0.468592    0.172923   \n",
            "38  w-005      3          0.252312            0.464895    0.142806   \n",
            "39  w-005      5          0.205563            0.470358    0.145519   \n",
            "\n",
            "    Lip Size Ratio  Lip Length Ratio  Eye-brow Length Ratio  Aggressive Ratio  \n",
            "0         4.474276          0.436174               0.426725          0.944518  \n",
            "1         3.392057          0.469056               0.398077          0.954870  \n",
            "2         3.887081          0.456299               0.414964          0.960188  \n",
            "3         3.382285          0.398878               0.422004          0.925923  \n",
            "4         3.287606          0.412910               0.374373          0.981763  \n",
            "5         3.304399          0.485635               0.367551          0.972069  \n",
            "6         3.762010          0.397557               0.369922          0.925943  \n",
            "7         3.139655          0.380838               0.357961          0.903573  \n",
            "8         3.498118          0.483682               0.350703          0.962129  \n",
            "9         4.235138          0.517285               0.375362          0.933771  \n",
            "10        4.639975          0.484581               0.351115          0.949108  \n",
            "11        4.861229          0.433144               0.375743          0.936718  \n",
            "12        6.940880          0.438517               0.369298          0.968076  \n",
            "13        2.581968          0.529262               0.334638          0.892415  \n",
            "14        3.639051          0.449905               0.376879          0.984009  \n",
            "15        3.873172          0.442907               0.361749          1.001245  \n",
            "16       10.428257          0.436841               0.336540          0.905933  \n",
            "17        2.860667          0.491058               0.324257          0.888417  \n",
            "18        4.972352          0.440961               0.352962          0.891447  \n",
            "19        4.347035          0.400737               0.359320          0.860338  \n",
            "20        3.109574          0.456926               0.362947          1.055723  \n",
            "21        3.019783          0.566145               0.358082          0.974968  \n",
            "22        2.828372          0.494729               0.345001          1.066541  \n",
            "23        2.838913          0.425128               0.386084          1.043468  \n",
            "24        3.267069          0.402367               0.335148          0.916886  \n",
            "25        2.416921          0.560891               0.342187          0.981057  \n",
            "26        3.648804          0.408763               0.355736          0.939260  \n",
            "27        3.324506          0.434727               0.330837          0.960822  \n",
            "28        3.506388          0.436727               0.349374          0.915431  \n",
            "29        2.878349          0.513504               0.347421          0.921411  \n",
            "30        3.225940          0.416152               0.390451          0.892855  \n",
            "31        2.646336          0.374169               0.385204          0.905353  \n",
            "32        4.149002          0.428669               0.372969          0.933736  \n",
            "33        2.979602          0.535934               0.337624          0.930847  \n",
            "34        3.418983          0.452216               0.355883          0.943390  \n",
            "35        2.998043          0.419175               0.365996          0.946781  \n",
            "36        4.164947          0.450758               0.358155          0.994792  \n",
            "37        2.572673          0.548580               0.346600          0.975673  \n",
            "38        3.569338          0.467995               0.362173          0.973696  \n",
            "39        3.217431          0.455344               0.376004          1.033303  \n"
          ]
        }
      ]
    }
  ]
}